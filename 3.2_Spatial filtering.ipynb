{
 "cells": [
  {
   "cell_type": "code",
   "execution_count": 2,
   "id": "e29a8da6",
   "metadata": {},
   "outputs": [],
   "source": [
    "from osgeo import gdal\n",
    "import numpy as np\n",
    "import matplotlib.pyplot as  plt\n",
    "import numpy as np"
   ]
  },
  {
   "cell_type": "code",
   "execution_count": 3,
   "id": "3291fbde",
   "metadata": {},
   "outputs": [],
   "source": [
    "dataset=gdal.Open(r\"C:\\Users\\86157\\Desktop\\微信图片_20220513175549.jpg\")"
   ]
  },
  {
   "cell_type": "code",
   "execution_count": 4,
   "id": "2259e64d",
   "metadata": {},
   "outputs": [
    {
     "name": "stdout",
     "output_type": "stream",
     "text": [
      "1\n"
     ]
    }
   ],
   "source": [
    "width=dataset.RasterXSize\n",
    "height=dataset.RasterYSize\n",
    "proj=dataset.GetProjection()\n",
    "Geotrans=dataset.GetGeoTransform()\n",
    "bands=dataset.RasterCount\n",
    "print(bands)"
   ]
  },
  {
   "cell_type": "code",
   "execution_count": 5,
   "id": "da6a0c5f",
   "metadata": {},
   "outputs": [
    {
     "name": "stdout",
     "output_type": "stream",
     "text": [
      "\n"
     ]
    }
   ],
   "source": [
    "print(proj)"
   ]
  },
  {
   "cell_type": "code",
   "execution_count": 6,
   "id": "ada0ca93",
   "metadata": {},
   "outputs": [
    {
     "name": "stdout",
     "output_type": "stream",
     "text": [
      "[[248 248 248 ... 248 248 248]\n",
      " [255 255 255 ... 255 255 255]\n",
      " [255 255 255 ... 255 255 255]\n",
      " ...\n",
      " [255 255 255 ... 255 255 255]\n",
      " [255 255 255 ... 255 255 255]\n",
      " [255 255 255 ... 255 255 255]]\n"
     ]
    }
   ],
   "source": [
    "im_data=dataset.ReadAsArray()\n",
    "print(im_data)"
   ]
  },
  {
   "cell_type": "code",
   "execution_count": 20,
   "id": "1e5dfea8",
   "metadata": {
    "scrolled": false
   },
   "outputs": [
    {
     "name": "stdout",
     "output_type": "stream",
     "text": [
      "(647, 649)\n"
     ]
    }
   ],
   "source": [
    "print(im_data.shape)"
   ]
  },
  {
   "cell_type": "code",
   "execution_count": 7,
   "id": "4d0c1cea",
   "metadata": {},
   "outputs": [],
   "source": [
    "desc = dataset.GetDescription()   \n",
    "# print(desc)\n",
    "# print(dataset.GetMetadata())"
   ]
  },
  {
   "cell_type": "code",
   "execution_count": 8,
   "id": "5b0a1a92",
   "metadata": {},
   "outputs": [
    {
     "data": {
      "text/plain": [
       "'Byte'"
      ]
     },
     "execution_count": 8,
     "metadata": {},
     "output_type": "execute_result"
    }
   ],
   "source": [
    "r=dataset.GetRasterBand(1)\n",
    "gdal.GetDataTypeName(r.DataType)"
   ]
  },
  {
   "cell_type": "markdown",
   "id": "9eaefaa2",
   "metadata": {},
   "source": [
    "###  滤波"
   ]
  },
  {
   "cell_type": "code",
   "execution_count": 9,
   "id": "d0a66ba6",
   "metadata": {},
   "outputs": [],
   "source": [
    "# kenel=np.array([[1/9,1/9,1/9],[1/9,1/9,1/9],[1/9,1/9,1/9]])\n",
    "kenel=np.array([[-1,-1,-1],[-1,8,-1],[-1,-1,-1]])\n",
    "# gx=np.array([[-1,0,1],[-2,0,2],[-1,0,1]])\n",
    "# gy=np.array([[1,2,1],[0,0,0],[-1,-2,-1]])\n",
    "temp=im_data.copy()\n",
    "# print(temp)\n",
    "# for k in range(bands):\n",
    "for i in range(1,height-1):\n",
    "        for j in range(1,width-1):\n",
    "            cell=0\n",
    "            for m in range(-1,2):\n",
    "                for n in range(-1,2):\n",
    "                    cell+=temp[i+m][j+n]*kenel[m+1][n+1]\n",
    "            if cell<0:\n",
    "                im_data[i][j]=0\n",
    "            if cell>0:\n",
    "                im_data[i][j]=255\n",
    "            else:\n",
    "                im_data[i][j]=cell\n",
    "            \n",
    "\n"
   ]
  },
  {
   "cell_type": "code",
   "execution_count": 10,
   "id": "6527e048",
   "metadata": {},
   "outputs": [
    {
     "name": "stdout",
     "output_type": "stream",
     "text": [
      "[[248 248 248 ... 248 248 248]\n",
      " [255 255 255 ... 255 255 255]\n",
      " [255 255 255 ... 255 255 255]\n",
      " ...\n",
      " [255   0   0 ...   0   0 255]\n",
      " [255   0   0 ...   0   0 255]\n",
      " [255 255 255 ... 255 255 255]]\n"
     ]
    }
   ],
   "source": [
    "print(im_data)"
   ]
  },
  {
   "cell_type": "code",
   "execution_count": 11,
   "id": "57851642",
   "metadata": {},
   "outputs": [],
   "source": [
    "driver=gdal.GetDriverByName('GTiff')\n",
    "new_dataset=driver.Create(r'C:\\Users\\86157\\Desktop\\3.tif',width,height,1,gdal.GDT_Byte)\n",
    "new_dataset.SetGeoTransform(Geotrans)\n",
    "new_dataset.SetProjection(proj)\n",
    "# for i in range(bands):\n",
    "new_dataset.GetRasterBand(1).WriteArray(im_data)\n",
    "del new_dataset"
   ]
  },
  {
   "cell_type": "code",
   "execution_count": null,
   "id": "eb1bc6e4",
   "metadata": {},
   "outputs": [],
   "source": []
  }
 ],
 "metadata": {
  "kernelspec": {
   "display_name": "Python 3 (ipykernel)",
   "language": "python",
   "name": "python3"
  },
  "language_info": {
   "codemirror_mode": {
    "name": "ipython",
    "version": 3
   },
   "file_extension": ".py",
   "mimetype": "text/x-python",
   "name": "python",
   "nbconvert_exporter": "python",
   "pygments_lexer": "ipython3",
   "version": "3.10.4"
  }
 },
 "nbformat": 4,
 "nbformat_minor": 5
}
